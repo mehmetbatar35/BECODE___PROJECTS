{
 "cells": [
  {
   "cell_type": "code",
   "execution_count": 14,
   "metadata": {},
   "outputs": [
    {
     "data": {
      "text/plain": [
       "['s', 'e', 's', 's', 'i', 'o', 'n', 's']"
      ]
     },
     "execution_count": 14,
     "metadata": {},
     "output_type": "execute_result"
    }
   ],
   "source": [
    "import random\n",
    "\n",
    "possible_words = ['becode', 'learning', 'mathematics', 'sessions']\n",
    "\n",
    "word_to_find = list(random.choice(possible_words))\n",
    "\n",
    "list(random.choice(possible_words))"
   ]
  },
  {
   "cell_type": "code",
   "execution_count": 24,
   "metadata": {},
   "outputs": [
    {
     "name": "stdout",
     "output_type": "stream",
     "text": [
      "['s', 'e', 's', 's', 'i', 'o', 'n', 's']\n",
      "['_', '_', '_', '_', '_', '_', '_', '_']\n",
      "_  _  _  _  _  _  _  _\n"
     ]
    }
   ],
   "source": [
    "import random\n",
    "\n",
    "class Hangman:\n",
    "    def __init__(self):\n",
    "        self.possible_words = ['becode', 'learning', 'mathematics', 'sessions']\n",
    "        self.word_to_find = list(random.choice(self.possible_words))\n",
    "        self.lives = 5\n",
    "        self.correctly_guessed_letters = [\"_\"] * len(self.word_to_find)\n",
    "        self.wrongly_guessed_letters = []\n",
    "        self.turn_count = 0\n",
    "        self.error_count = 0\n",
    "        print(self.word_to_find)\n",
    "        print(self.correctly_guessed_letters)\n",
    "\n",
    "    def get_display_word(self):\n",
    "        return \"  \".join(self.correctly_guessed_letters)    \n",
    "    \n",
    "\n",
    "print(Hangman().get_display_word())    "
   ]
  },
  {
   "cell_type": "code",
   "execution_count": null,
   "metadata": {},
   "outputs": [],
   "source": []
  }
 ],
 "metadata": {
  "kernelspec": {
   "display_name": "Python 3",
   "language": "python",
   "name": "python3"
  },
  "language_info": {
   "codemirror_mode": {
    "name": "ipython",
    "version": 3
   },
   "file_extension": ".py",
   "mimetype": "text/x-python",
   "name": "python",
   "nbconvert_exporter": "python",
   "pygments_lexer": "ipython3",
   "version": "3.11.9"
  }
 },
 "nbformat": 4,
 "nbformat_minor": 2
}
